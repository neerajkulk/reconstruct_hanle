{
 "cells": [
  {
   "cell_type": "code",
   "execution_count": 46,
   "metadata": {},
   "outputs": [],
   "source": [
    "import numpy as np\n",
    "import matplotlib.pyplot as plt\n",
    "import glob\n",
    "from astropy.io import fits\n",
    "import pandas as pd\n",
    "from scipy.interpolate import interp1d"
   ]
  },
  {
   "cell_type": "code",
   "execution_count": 47,
   "metadata": {},
   "outputs": [],
   "source": [
    "# LOAD in fixed simulation parameters\n",
    "sim_z = np.loadtxt('/Users/kulkarniad/muram/z.csv')\n",
    "NLAMBDA = 472\n",
    "NZ = 64\n",
    "NX = 50\n",
    "NY = 50"
   ]
  },
  {
   "cell_type": "code",
   "execution_count": 3,
   "metadata": {},
   "outputs": [],
   "source": [
    "# Create collision depolarization cube.\n",
    "def load_depol_array():\n",
    "    data = pd.read_csv('depol.csv') # copy of Figure 6 of aleman and trujillo bueno\n",
    "    z = data.iloc[:,0]*1e3 # z is in units of km\n",
    "    delta = data.iloc[:,1] # delta is unitless\n",
    "    delta_interp = interp1d(z,delta,fill_value= 'extrapolate')\n",
    "    delta_array = delta_interp(sim_z)\n",
    "    delta_cube = np.zeros((NZ,NY,NX))\n",
    "    # Interpolate this function over MURaM z values\n",
    "    for i in range(NX):\n",
    "        for j in range(NY):\n",
    "            delta_cube[:,j,i] = delta_array\n",
    "    return delta_cube"
   ]
  },
  {
   "cell_type": "code",
   "execution_count": 4,
   "metadata": {},
   "outputs": [],
   "source": [
    "delta_cube = load_depol_array()"
   ]
  },
  {
   "cell_type": "code",
   "execution_count": 5,
   "metadata": {},
   "outputs": [
    {
     "data": {
      "text/plain": [
       "Text(0.5, 0, '$z (km) $')"
      ]
     },
     "execution_count": 5,
     "metadata": {},
     "output_type": "execute_result"
    },
    {
     "data": {
      "image/png": "[encoded data removed]",
      "text/plain": [
       "<Figure size 432x288 with 1 Axes>"
      ]
     },
     "metadata": {
      "needs_background": "light"
     },
     "output_type": "display_data"
    }
   ],
   "source": [
    "plt.plot(sim_z,delta_cube[:,0,0])\n",
    "plt.ylabel('$\\delta ^{(2)}$')\n",
    "plt.xlabel('$z (km) $')"
   ]
  },
  {
   "cell_type": "code",
   "execution_count": 6,
   "metadata": {},
   "outputs": [
    {
     "data": {
      "text/plain": [
       "<matplotlib.colorbar.Colorbar at 0x1196d3e80>"
      ]
     },
     "execution_count": 6,
     "metadata": {},
     "output_type": "execute_result"
    },
    {
     "data": {
      "image/png": "[encoded data removed]",
      "text/plain": [
       "<Figure size 432x288 with 2 Axes>"
      ]
     },
     "metadata": {
      "needs_background": "light"
     },
     "output_type": "display_data"
    }
   ],
   "source": [
    "plt.imshow(delta_cube[:,:,32])\n",
    "plt.colorbar()"
   ]
  },
  {
   "cell_type": "code",
   "execution_count": 7,
   "metadata": {},
   "outputs": [],
   "source": [
    "# READ IN OPACITIES AND EMISSIVITIES\n",
    "data = fits.open('small/opac_l.fits')\n",
    "opac_l = data[0].data\n",
    "data = fits.open('small/opac_c.fits')\n",
    "opac_c = data[0].data\n",
    "\n",
    "data = fits.open('small/emis_l.fits')\n",
    "emis_l = data[0].data\n",
    "data = fits.open('small/emis_c.fits')\n",
    "emis_c = data[0].data"
   ]
  },
  {
   "cell_type": "code",
   "execution_count": 8,
   "metadata": {},
   "outputs": [],
   "source": [
    "S_l = emis_l/opac_l"
   ]
  },
  {
   "cell_type": "code",
   "execution_count": 9,
   "metadata": {},
   "outputs": [],
   "source": [
    "#GLOBAL VARIABLES\n",
    "NX = 50\n",
    "NY = 50\n",
    "NZ = 64\n",
    "TRT = 2.0*np.sqrt(2) # 2 sqrt(2)\n",
    "Aij = 28180897.721018 # straight out of RH from line->Aji note that this is a factor 5 different from NIST's value"
   ]
  },
  {
   "cell_type": "code",
   "execution_count": 10,
   "metadata": {},
   "outputs": [],
   "source": [
    "class Opacity:\n",
    "    def __init__(self,dir_loc):        \n",
    "        data = fits.open(dir_loc+'opac_l.fits')\n",
    "        self.opac_l = data[0].data\n",
    "        data = fits.open(dir_loc+'opac_c.fits')\n",
    "        self.opac_c = data[0].data\n",
    "\n",
    "        data = fits.open(dir_loc+'emis_l.fits')\n",
    "        self.emis_l = data[0].data\n",
    "        data = fits.open(dir_loc+'emis_c.fits')\n",
    "        self.emis_c = data[0].data\n",
    "            "
   ]
  },
  {
   "cell_type": "code",
   "execution_count": 11,
   "metadata": {},
   "outputs": [],
   "source": [
    "def epsilon(dir_loc):\n",
    "    cij = np.loadtxt(dir_loc+'Cij8.txt').reshape(NZ,NY,NX)\n",
    "    return cij/(cij+Aij)\n",
    "    "
   ]
  },
  {
   "cell_type": "code",
   "execution_count": 12,
   "metadata": {},
   "outputs": [
    {
     "data": {
      "image/png": "[encoded data removed]",
      "text/plain": [
       "<Figure size 432x288 with 2 Axes>"
      ]
     },
     "metadata": {
      "needs_background": "light"
     },
     "output_type": "display_data"
    }
   ],
   "source": [
    "eps_small = epsilon('small/')\n",
    "\n",
    "plt.imshow(np.log10(eps_small[:,10,:]),cmap='Greys',extent=[0,1300,-500,500])\n",
    "plt.colorbar()\n",
    "plt.title('log10 ($ \\epsilon $)')\n",
    "plt.show()"
   ]
  },
  {
   "cell_type": "markdown",
   "metadata": {},
   "source": [
    "$\\varepsilon$ ranges from $\\sim 1$ down low in the atmosphere to less than $0.01$ near the top of the atmosphere"
   ]
  },
  {
   "cell_type": "code",
   "execution_count": 13,
   "metadata": {},
   "outputs": [
    {
     "data": {
      "text/plain": [
       "['small/Cij8.txt',\n",
       " 'small/J.txt',\n",
       " 'small/J20.txt',\n",
       " 'small/imJ21.txt',\n",
       " 'small/imJ22.txt',\n",
       " 'small/reJ21.txt',\n",
       " 'small/reJ22.txt']"
      ]
     },
     "execution_count": 13,
     "metadata": {},
     "output_type": "execute_result"
    }
   ],
   "source": [
    "sorted(glob.glob('small/'+'/*txt'))"
   ]
  },
  {
   "cell_type": "code",
   "execution_count": 14,
   "metadata": {},
   "outputs": [],
   "source": [
    "class Sphr_tensors:\n",
    "    def __init__(self,dir_loc):\n",
    "        # spherical J tensors\n",
    "        self.j00 = np.loadtxt(dir_loc+'J.txt').reshape(NZ,NY,NX)\n",
    "        self.j20 = np.loadtxt(dir_loc+'J20.txt').reshape(NZ,NY,NX)\n",
    "        self.imj21 = np.loadtxt(dir_loc+'imJ21.txt').reshape(NZ,NY,NX)\n",
    "        self.imj22 = np.loadtxt(dir_loc+'imJ22.txt').reshape(NZ,NY,NX)\n",
    "        self.rej21 = np.loadtxt(dir_loc+'reJ21.txt').reshape(NZ,NY,NX)\n",
    "        self.rej22 = np.loadtxt(dir_loc+'reJ22.txt').reshape(NZ,NY,NX)"
   ]
  },
  {
   "cell_type": "code",
   "execution_count": 15,
   "metadata": {},
   "outputs": [],
   "source": [
    "class Source_function:\n",
    "    def __init__(self,dir_loc):\n",
    "\n",
    "        st = Sphr_tensors(dir_loc)       \n",
    "        eps = epsilon(dir_loc)\n",
    "        delta = load_depol_array()\n",
    "        \n",
    "        opcty = Opacity(dir_loc)        \n",
    "        self.r = opcty.opac_l / (opcty.opac_l  + opcty.opac_c )\n",
    "        self.source_l = opcty.emis_l/opcty.opac_l\n",
    "        self.source_c = opcty.emis_c/opcty.opac_c\n",
    "    \n",
    "        self.s00 = self.source_l # define this to be the line source function\n",
    "        self.s20 = (1-eps)/(1+delta*(1-eps)) * st.j20\n",
    "        self.ims21 = (1-eps)/(1+delta*(1-eps)) * st.imj21 * (-1.0)\n",
    "        self.ims22 = (1-eps)/(1+delta*(1-eps)) * st.imj22 * (-1.0)\n",
    "        self.res21 = (1-eps)/(1+delta*(1-eps)) * st.rej21\n",
    "        self.res22 = (1-eps)/(1+delta*(1-eps)) * st.imj22        \n",
    "        \n",
    "    # Line source functions\n",
    "    def si_line(self,mu,azi):\n",
    "        c1 = 1/TRT*(3*mu**2 - 1)\n",
    "        c2 = np.sqrt(3)*mu*np.sqrt(1-mu**2)\n",
    "        c3 = (np.sqrt(3)/2) * (1-mu**2)        \n",
    "\n",
    "        out = self.s00 + c1*self.s20 \\\n",
    "        - c2*(self.res21*np.cos(azi)-self.ims21*np.sin(azi)) \\\n",
    "        + c3*(self.res22*np.cos(2*azi) - self.ims22*np.sin(2.0*azi)) \n",
    "\n",
    "        return out\n",
    "    \n",
    "    def sq_line(self,mu,azi):\n",
    "        c1 = 3/TRT*(mu**2 - 1)\n",
    "        c2 = np.sqrt(3)*mu*np.sqrt(1-mu**2)\n",
    "        c3 = (np.sqrt(3)/2) * (1+mu**2)\n",
    "\n",
    "        out = c1*self.s20 \\\n",
    "        -c2*(self.res21*np.cos(azi)-self.ims21*np.sin(azi)) \\\n",
    "        -c3*(self.res22*np.cos(2*azi)-self.ims22*np.sin(2*azi))\n",
    "        return out\n",
    "\n",
    "    def su_line(self,mu,azi):\n",
    "        c1 = np.sqrt(1-mu**2)\n",
    "        \n",
    "        out = c1*(self.res21*np.sin(azi) + self.ims21*np.cos(azi)) \\\n",
    "        + mu*(self.res22*np.sin(2*azi) + self.ims22*np.cos(2*azi))\n",
    "\n",
    "        out *= np.sqrt(3.0)\n",
    "        return out\n",
    "    \n",
    "# Now Calculate source functions of I, Q U:         \n",
    "    def source_i(self,mu,azi):\n",
    "        return self.r*self.si_line(mu,azi) + (1-self.r)*self.source_c\n",
    "\n",
    "    def source_q(self,mu,azi):\n",
    "        return self.r*self.sq_line(mu,azi)  # check that some wierd broadcasting is not going on here!\n",
    "\n",
    "    def source_u(self,mu,azi):\n",
    "        return self.r*self.su_line(mu,azi) "
   ]
  },
  {
   "cell_type": "markdown",
   "metadata": {},
   "source": [
    "Source funcs are loaded and ready to rumble!"
   ]
  },
  {
   "cell_type": "markdown",
   "metadata": {},
   "source": [
    "###  Now try and solve radiative transfer eqn:"
   ]
  },
  {
   "cell_type": "code",
   "execution_count": 16,
   "metadata": {},
   "outputs": [],
   "source": [
    "total_opac = opac_l+opac_c\n",
    "from scipy.integrate import cumtrapz\n"
   ]
  },
  {
   "cell_type": "code",
   "execution_count": 17,
   "metadata": {},
   "outputs": [],
   "source": [
    "# calculate tau by intergrating opacity\n",
    "tau_cube = np.zeros((NLAMBDA,NZ,NY,NY))\n",
    "for l in range(NLAMBDA):\n",
    "    for i in range(NX):\n",
    "        for j in range(NY):\n",
    "            tau_cube[l,:,j,i] = np.log10(cumtrapz(total_opac[l,:,j,i], x=sim_z*1e3,initial=-1e6) * (-1.0))\n",
    "            "
   ]
  },
  {
   "cell_type": "code",
   "execution_count": 18,
   "metadata": {},
   "outputs": [
    {
     "data": {
      "text/plain": [
       "<matplotlib.colorbar.Colorbar at 0x174bdfba8>"
      ]
     },
     "execution_count": 18,
     "metadata": {},
     "output_type": "execute_result"
    },
    {
     "data": {
      "image/png": "[encoded data removed]",
      "text/plain": [
       "<Figure size 432x288 with 2 Axes>"
      ]
     },
     "metadata": {
      "needs_background": "light"
     },
     "output_type": "display_data"
    }
   ],
   "source": [
    "plt.imshow(tau_cube[0,2])\n",
    "plt.colorbar()"
   ]
  },
  {
   "cell_type": "code",
   "execution_count": 19,
   "metadata": {},
   "outputs": [
    {
     "data": {
      "text/plain": [
       "(472, 64, 50, 50)"
      ]
     },
     "execution_count": 19,
     "metadata": {},
     "output_type": "execute_result"
    }
   ],
   "source": [
    "total_opac.shape"
   ]
  },
  {
   "cell_type": "code",
   "execution_count": 21,
   "metadata": {},
   "outputs": [],
   "source": [
    "src_fnc = Source_function('small/')"
   ]
  },
  {
   "cell_type": "code",
   "execution_count": 22,
   "metadata": {},
   "outputs": [
    {
     "data": {
      "text/plain": [
       "[<matplotlib.lines.Line2D at 0x1ab1ce860>]"
      ]
     },
     "execution_count": 22,
     "metadata": {},
     "output_type": "execute_result"
    },
    {
     "data": {
      "image/png": "[encoded data removed]",
      "text/plain": [
       "<Figure size 432x288 with 1 Axes>"
      ]
     },
     "metadata": {
      "needs_background": "light"
     },
     "output_type": "display_data"
    }
   ],
   "source": [
    "plt.plot(np.log10(-tau))"
   ]
  },
  {
   "cell_type": "code",
   "execution_count": 30,
   "metadata": {},
   "outputs": [
    {
     "data": {
      "text/plain": [
       "(472, 64, 50, 50)"
      ]
     },
     "execution_count": 30,
     "metadata": {},
     "output_type": "execute_result"
    }
   ],
   "source": [
    "src_fnc.source_i(0.0,0.0).shape"
   ]
  },
  {
   "cell_type": "code",
   "execution_count": 31,
   "metadata": {},
   "outputs": [],
   "source": [
    "# FORMAL solver for vertical rays\n",
    "\n",
    "def sc_formal_solver(I_upwind,delta,S_upwind,S_local):\n",
    " \n",
    "    expd = np.exp(-delta)\n",
    "    w_local = 1.0 - 1.0/delta * (1.0 - expd)\n",
    "    w_upwind = -expd + 1.0/delta * (1.0 - expd)\n",
    " \n",
    "    I_local = I_upwind * expd + w_local * S_local + w_upwind * S_upwind\n",
    " \n",
    "    return I_local"
   ]
  },
  {
   "cell_type": "code",
   "execution_count": 32,
   "metadata": {},
   "outputs": [
    {
     "data": {
      "text/plain": [
       "1.0483741803595952"
      ]
     },
     "execution_count": 32,
     "metadata": {},
     "output_type": "execute_result"
    }
   ],
   "source": [
    "sc_formal_solver(1,0.1,1,2)"
   ]
  },
  {
   "cell_type": "code",
   "execution_count": 36,
   "metadata": {},
   "outputs": [
    {
     "name": "stderr",
     "output_type": "stream",
     "text": [
      "/Users/neku5162/anaconda3/envs/py37/lib/python3.7/site-packages/ipykernel_launcher.py:5: RuntimeWarning: overflow encountered in exp\n",
      "  \"\"\"\n",
      "/Users/neku5162/anaconda3/envs/py37/lib/python3.7/site-packages/ipykernel_launcher.py:7: RuntimeWarning: invalid value encountered in double_scalars\n",
      "  import sys\n",
      "/Users/neku5162/anaconda3/envs/py37/lib/python3.7/site-packages/ipykernel_launcher.py:9: RuntimeWarning: invalid value encountered in double_scalars\n",
      "  if __name__ == '__main__':\n"
     ]
    }
   ],
   "source": [
    "I_cube = np.zeros((NLAMBDA,NZ,NY,NY))\n",
    "src_fnc = Source_function('small/')\n",
    "S = src_fnc.source_i(1.0,0.0)\n",
    "I_cube[:,NZ-1,:,:] = S[:,NZ-1,:,:]\n",
    "for l in range(NLAMBDA):\n",
    "    for j in range(NY):\n",
    "        for i in range(NX):\n",
    "            for d in list(range(NZ-2,-1,-1)):\n",
    "                dtau = 10**tau_cube[l,d+1,j,i] - 10**tau_cube[l,d,j,i]\n",
    "                I_cube[l,d,j,i] = sc_formal_solver(I_cube[l,d+1,j,i],dtau,S[l,d+1,j,i],S[l,d,j,i])"
   ]
  },
  {
   "cell_type": "code",
   "execution_count": 39,
   "metadata": {},
   "outputs": [
    {
     "data": {
      "text/plain": [
       "<matplotlib.image.AxesImage at 0x1749c6320>"
      ]
     },
     "execution_count": 39,
     "metadata": {},
     "output_type": "execute_result"
    },
    {
     "data": {
      "image/png": "[encoded data removed]",
      "text/plain": [
       "<Figure size 432x288 with 1 Axes>"
      ]
     },
     "metadata": {
      "needs_background": "light"
     },
     "output_type": "display_data"
    }
   ],
   "source": [
    "plt.imshow(I_cube[0,61,:,:])"
   ]
  },
  {
   "cell_type": "code",
   "execution_count": 40,
   "metadata": {
    "scrolled": true
   },
   "outputs": [
    {
     "name": "stderr",
     "output_type": "stream",
     "text": [
      "/Users/neku5162/anaconda3/envs/py37/lib/python3.7/site-packages/ipykernel_launcher.py:5: RuntimeWarning: overflow encountered in exp\n",
      "  \"\"\"\n",
      "/Users/neku5162/anaconda3/envs/py37/lib/python3.7/site-packages/ipykernel_launcher.py:7: RuntimeWarning: invalid value encountered in double_scalars\n",
      "  import sys\n",
      "/Users/neku5162/anaconda3/envs/py37/lib/python3.7/site-packages/ipykernel_launcher.py:9: RuntimeWarning: invalid value encountered in double_scalars\n",
      "  if __name__ == '__main__':\n"
     ]
    },
    {
     "ename": "KeyboardInterrupt",
     "evalue": "",
     "output_type": "error",
     "traceback": [
      "\u001b[0;31m---------------------------------------------------------------------------\u001b[0m",
      "\u001b[0;31mKeyboardInterrupt\u001b[0m                         Traceback (most recent call last)",
      "\u001b[0;32m<ipython-input-40-da1b53bc8734>\u001b[0m in \u001b[0;36m<module>\u001b[0;34m\u001b[0m\n\u001b[1;32m      8\u001b[0m             \u001b[0;32mfor\u001b[0m \u001b[0md\u001b[0m \u001b[0;32min\u001b[0m \u001b[0mlist\u001b[0m\u001b[0;34m(\u001b[0m\u001b[0mrange\u001b[0m\u001b[0;34m(\u001b[0m\u001b[0mNZ\u001b[0m\u001b[0;34m-\u001b[0m\u001b[0;36m2\u001b[0m\u001b[0;34m,\u001b[0m\u001b[0;34m-\u001b[0m\u001b[0;36m1\u001b[0m\u001b[0;34m,\u001b[0m\u001b[0;34m-\u001b[0m\u001b[0;36m1\u001b[0m\u001b[0;34m)\u001b[0m\u001b[0;34m)\u001b[0m\u001b[0;34m:\u001b[0m\u001b[0;34m\u001b[0m\u001b[0;34m\u001b[0m\u001b[0m\n\u001b[1;32m      9\u001b[0m                 \u001b[0mdtau\u001b[0m \u001b[0;34m=\u001b[0m \u001b[0;36m10\u001b[0m\u001b[0;34m**\u001b[0m\u001b[0mtau_cube\u001b[0m\u001b[0;34m[\u001b[0m\u001b[0ml\u001b[0m\u001b[0;34m,\u001b[0m\u001b[0md\u001b[0m\u001b[0;34m+\u001b[0m\u001b[0;36m1\u001b[0m\u001b[0;34m,\u001b[0m\u001b[0mj\u001b[0m\u001b[0;34m,\u001b[0m\u001b[0mi\u001b[0m\u001b[0;34m]\u001b[0m \u001b[0;34m-\u001b[0m \u001b[0;36m10\u001b[0m\u001b[0;34m**\u001b[0m\u001b[0mtau_cube\u001b[0m\u001b[0;34m[\u001b[0m\u001b[0ml\u001b[0m\u001b[0;34m,\u001b[0m\u001b[0md\u001b[0m\u001b[0;34m,\u001b[0m\u001b[0mj\u001b[0m\u001b[0;34m,\u001b[0m\u001b[0mi\u001b[0m\u001b[0;34m]\u001b[0m\u001b[0;34m\u001b[0m\u001b[0;34m\u001b[0m\u001b[0m\n\u001b[0;32m---> 10\u001b[0;31m                 \u001b[0mQ_cube\u001b[0m\u001b[0;34m[\u001b[0m\u001b[0ml\u001b[0m\u001b[0;34m,\u001b[0m\u001b[0md\u001b[0m\u001b[0;34m,\u001b[0m\u001b[0mj\u001b[0m\u001b[0;34m,\u001b[0m\u001b[0mi\u001b[0m\u001b[0;34m]\u001b[0m \u001b[0;34m=\u001b[0m \u001b[0msc_formal_solver\u001b[0m\u001b[0;34m(\u001b[0m\u001b[0mQ_cube\u001b[0m\u001b[0;34m[\u001b[0m\u001b[0ml\u001b[0m\u001b[0;34m,\u001b[0m\u001b[0md\u001b[0m\u001b[0;34m+\u001b[0m\u001b[0;36m1\u001b[0m\u001b[0;34m,\u001b[0m\u001b[0mj\u001b[0m\u001b[0;34m,\u001b[0m\u001b[0mi\u001b[0m\u001b[0;34m]\u001b[0m\u001b[0;34m,\u001b[0m\u001b[0mdtau\u001b[0m\u001b[0;34m,\u001b[0m\u001b[0mS\u001b[0m\u001b[0;34m[\u001b[0m\u001b[0ml\u001b[0m\u001b[0;34m,\u001b[0m\u001b[0md\u001b[0m\u001b[0;34m+\u001b[0m\u001b[0;36m1\u001b[0m\u001b[0;34m,\u001b[0m\u001b[0mj\u001b[0m\u001b[0;34m,\u001b[0m\u001b[0mi\u001b[0m\u001b[0;34m]\u001b[0m\u001b[0;34m,\u001b[0m\u001b[0mS\u001b[0m\u001b[0;34m[\u001b[0m\u001b[0ml\u001b[0m\u001b[0;34m,\u001b[0m\u001b[0md\u001b[0m\u001b[0;34m,\u001b[0m\u001b[0mj\u001b[0m\u001b[0;34m,\u001b[0m\u001b[0mi\u001b[0m\u001b[0;34m]\u001b[0m\u001b[0;34m)\u001b[0m\u001b[0;34m\u001b[0m\u001b[0;34m\u001b[0m\u001b[0m\n\u001b[0m",
      "\u001b[0;32m<ipython-input-31-612db4407d23>\u001b[0m in \u001b[0;36msc_formal_solver\u001b[0;34m(I_upwind, delta, S_upwind, S_local)\u001b[0m\n\u001b[1;32m      7\u001b[0m     \u001b[0mw_upwind\u001b[0m \u001b[0;34m=\u001b[0m \u001b[0;34m-\u001b[0m\u001b[0mexpd\u001b[0m \u001b[0;34m+\u001b[0m \u001b[0;36m1.0\u001b[0m\u001b[0;34m/\u001b[0m\u001b[0mdelta\u001b[0m \u001b[0;34m*\u001b[0m \u001b[0;34m(\u001b[0m\u001b[0;36m1.0\u001b[0m \u001b[0;34m-\u001b[0m \u001b[0mexpd\u001b[0m\u001b[0;34m)\u001b[0m\u001b[0;34m\u001b[0m\u001b[0;34m\u001b[0m\u001b[0m\n\u001b[1;32m      8\u001b[0m \u001b[0;34m\u001b[0m\u001b[0m\n\u001b[0;32m----> 9\u001b[0;31m     \u001b[0mI_local\u001b[0m \u001b[0;34m=\u001b[0m \u001b[0mI_upwind\u001b[0m \u001b[0;34m*\u001b[0m \u001b[0mexpd\u001b[0m \u001b[0;34m+\u001b[0m \u001b[0mw_local\u001b[0m \u001b[0;34m*\u001b[0m \u001b[0mS_local\u001b[0m \u001b[0;34m+\u001b[0m \u001b[0mw_upwind\u001b[0m \u001b[0;34m*\u001b[0m \u001b[0mS_upwind\u001b[0m\u001b[0;34m\u001b[0m\u001b[0;34m\u001b[0m\u001b[0m\n\u001b[0m\u001b[1;32m     10\u001b[0m \u001b[0;34m\u001b[0m\u001b[0m\n\u001b[1;32m     11\u001b[0m     \u001b[0;32mreturn\u001b[0m \u001b[0mI_local\u001b[0m\u001b[0;34m\u001b[0m\u001b[0;34m\u001b[0m\u001b[0m\n",
      "\u001b[0;31mKeyboardInterrupt\u001b[0m: "
     ]
    }
   ],
   "source": [
    "Q_cube = np.zeros((NLAMBDA,NZ,NY,NY))\n",
    "src_fnc = Source_function('small/')\n",
    "S = src_fnc.source_q(1.0,0.0)\n",
    "Q_cube[:,NZ-1,:,:] = S[:,NZ-1,:,:]\n",
    "for l in range(NLAMBDA):\n",
    "    for j in range(NY):\n",
    "        for i in range(NX):\n",
    "            for d in list(range(NZ-2,-1,-1)):\n",
    "                dtau = 10**tau_cube[l,d+1,j,i] - 10**tau_cube[l,d,j,i]\n",
    "                Q_cube[l,d,j,i] = sc_formal_solver(Q_cube[l,d+1,j,i],dtau,S[l,d+1,j,i],S[l,d,j,i])"
   ]
  },
  {
   "cell_type": "markdown",
   "metadata": {},
   "source": [
    "Comparing magnitude of the terms:"
   ]
  },
  {
   "cell_type": "code",
   "execution_count": null,
   "metadata": {},
   "outputs": [],
   "source": [
    "st = Sphr_tensors('small/')"
   ]
  },
  {
   "cell_type": "code",
   "execution_count": 58,
   "metadata": {},
   "outputs": [
    {
     "data": {
      "text/plain": [
       "(64, 50, 50)"
      ]
     },
     "execution_count": 58,
     "metadata": {},
     "output_type": "execute_result"
    }
   ],
   "source": [
    "st.j00.shape"
   ]
  },
  {
   "cell_type": "code",
   "execution_count": 53,
   "metadata": {},
   "outputs": [
    {
     "data": {
      "text/plain": [
       "array([[[ 2.16534943e-15,  2.25542484e-15,  2.37244347e-15, ...,\n",
       "          1.78667317e-15,  1.85144845e-15,  1.89243371e-15],\n",
       "        [ 2.16734750e-15,  2.26735719e-15,  2.43382390e-15, ...,\n",
       "          1.77901150e-15,  1.83170563e-15,  1.87053567e-15],\n",
       "        [ 2.15213504e-15,  2.29170140e-15,  2.46236026e-15, ...,\n",
       "          1.74704390e-15,  1.79676074e-15,  1.82507698e-15],\n",
       "        ...,\n",
       "        [ 1.32904342e-15,  1.37859001e-15,  1.42047181e-15, ...,\n",
       "          1.77937117e-15,  1.82333276e-15,  1.84062898e-15],\n",
       "        [ 1.31458845e-15,  1.35776242e-15,  1.41367935e-15, ...,\n",
       "          1.73809978e-15,  1.77082222e-15,  1.80220019e-15],\n",
       "        [ 1.30191214e-15,  1.34695405e-15,  1.40206692e-15, ...,\n",
       "          1.70102814e-15,  1.75121448e-15,  1.76776668e-15]],\n",
       "\n",
       "       [[ 2.39548669e-15,  2.49035552e-15,  2.65180077e-15, ...,\n",
       "          1.92933560e-15,  2.01587281e-15,  2.08363574e-15],\n",
       "        [ 2.38715259e-15,  2.52501000e-15,  2.72029921e-15, ...,\n",
       "          1.92944306e-15,  2.00613941e-15,  2.04500028e-15],\n",
       "        [ 2.37129278e-15,  2.54760375e-15,  2.76687278e-15, ...,\n",
       "          1.90043166e-15,  1.96416965e-15,  2.00833877e-15],\n",
       "        ...,\n",
       "        [ 1.43745826e-15,  1.48235664e-15,  1.54561244e-15, ...,\n",
       "          1.88650302e-15,  1.95403310e-15,  1.98743224e-15],\n",
       "        [ 1.41906173e-15,  1.47135629e-15,  1.52697520e-15, ...,\n",
       "          1.83956326e-15,  1.89966234e-15,  1.94270619e-15],\n",
       "        [ 1.40679377e-15,  1.46351504e-15,  1.52652400e-15, ...,\n",
       "          1.81132755e-15,  1.88171368e-15,  1.90854901e-15]],\n",
       "\n",
       "       [[ 2.68428925e-15,  2.81974179e-15,  2.98478621e-15, ...,\n",
       "          2.12489068e-15,  2.24008871e-15,  2.31967491e-15],\n",
       "        [ 2.69053122e-15,  2.86353084e-15,  3.09291638e-15, ...,\n",
       "          2.11451222e-15,  2.22313170e-15,  2.29577422e-15],\n",
       "        [ 2.67370843e-15,  2.90072084e-15,  3.14472083e-15, ...,\n",
       "          2.08416279e-15,  2.16342237e-15,  2.25039917e-15],\n",
       "        ...,\n",
       "        [ 1.58787340e-15,  1.64472687e-15,  1.71465721e-15, ...,\n",
       "          2.02831285e-15,  2.11588713e-15,  2.18945063e-15],\n",
       "        [ 1.56147557e-15,  1.62659440e-15,  1.69221674e-15, ...,\n",
       "          1.96791721e-15,  2.07837133e-15,  2.12945320e-15],\n",
       "        [ 1.55605156e-15,  1.62233920e-15,  1.70827305e-15, ...,\n",
       "          1.94785166e-15,  2.05190954e-15,  2.10413972e-15]],\n",
       "\n",
       "       ...,\n",
       "\n",
       "       [[-1.46245144e-19, -1.36349373e-19, -1.38817231e-19, ...,\n",
       "         -6.91915619e-20, -7.17722507e-20, -1.08345662e-19],\n",
       "        [-1.44193355e-19, -1.23591372e-19, -1.25801170e-19, ...,\n",
       "         -1.31265864e-19, -1.30895847e-19, -1.45666221e-19],\n",
       "        [-1.44347783e-19, -1.23904004e-19, -1.25624083e-19, ...,\n",
       "         -1.31516454e-19, -1.30994740e-19, -1.48760659e-19],\n",
       "        ...,\n",
       "        [-7.15584811e-20, -1.26022798e-19, -1.25753003e-19, ...,\n",
       "         -1.62329199e-19, -2.30829457e-19, -1.55386252e-19],\n",
       "        [-7.16098465e-20, -1.25974175e-19, -1.25582499e-19, ...,\n",
       "         -9.52407960e-20, -1.59640790e-19, -1.31677002e-19],\n",
       "        [-8.49241478e-20, -1.38618671e-19, -1.40229772e-19, ...,\n",
       "         -1.21199020e-19, -1.34390948e-19, -9.48921565e-20]],\n",
       "\n",
       "       [[-1.30110854e-19, -1.21777190e-19, -1.23754195e-19, ...,\n",
       "         -6.49629789e-20, -6.69058287e-20, -1.01308581e-19],\n",
       "        [-1.27882763e-19, -1.10247716e-19, -1.12282167e-19, ...,\n",
       "         -1.20513643e-19, -1.20206765e-19, -1.32671377e-19],\n",
       "        [-1.27640058e-19, -1.10299834e-19, -1.12028852e-19, ...,\n",
       "         -1.20559499e-19, -1.20212249e-19, -1.35758286e-19],\n",
       "        ...,\n",
       "        [-6.54015344e-20, -1.14754157e-19, -1.14545345e-19, ...,\n",
       "         -2.02759369e-19, -2.35587345e-19, -1.64310777e-19],\n",
       "        [-6.58732035e-20, -1.14688704e-19, -1.14408923e-19, ...,\n",
       "         -1.12204541e-19, -1.75571598e-19, -1.21910661e-19],\n",
       "        [-7.93926919e-20, -1.25974351e-19, -1.27496135e-19, ...,\n",
       "         -1.19635900e-19, -1.19675774e-19, -9.02184120e-20]],\n",
       "\n",
       "       [[-1.71175494e-20,  8.02513149e-20,  8.98388580e-20, ...,\n",
       "         -3.81728812e-20, -3.68687913e-20,  4.59261320e-20],\n",
       "        [ 6.09521615e-20,  1.02975158e-19,  1.08620038e-19, ...,\n",
       "          1.17228631e-19,  1.18436863e-19,  1.49506454e-19],\n",
       "        [ 6.28347607e-20,  1.04613231e-19,  1.09876012e-19, ...,\n",
       "          1.16186988e-19,  1.20843609e-19,  1.56367245e-19],\n",
       "        ...,\n",
       "        [-2.61678527e-20,  1.12174997e-19,  1.12879359e-19, ...,\n",
       "          2.20700846e-19,  2.82777845e-19,  4.71613465e-19],\n",
       "        [-4.22308417e-20,  1.12668172e-19,  1.14190540e-19, ...,\n",
       "          1.61448388e-19,  2.15204887e-19,  4.41365528e-19],\n",
       "        [ 9.77446610e-21,  1.26139526e-19,  1.30328576e-19, ...,\n",
       "          3.54139066e-19,  3.85128796e-19,  5.57961600e-19]]])"
      ]
     },
     "execution_count": 53,
     "metadata": {},
     "output_type": "execute_result"
    }
   ],
   "source": [
    "src_fnc.s20"
   ]
  },
  {
   "cell_type": "code",
   "execution_count": 52,
   "metadata": {},
   "outputs": [
    {
     "data": {
      "text/plain": [
       "[<matplotlib.lines.Line2D at 0x1abd42048>]"
      ]
     },
     "execution_count": 52,
     "metadata": {},
     "output_type": "execute_result"
    },
    {
     "data": {
      "image/png": "[encoded data removed]",
      "text/plain": [
       "<Figure size 432x288 with 1 Axes>"
      ]
     },
     "metadata": {
      "needs_background": "light"
     },
     "output_type": "display_data"
    }
   ],
   "source": [
    "plt.plot(src_fnc.s00[:,28,0,0])"
   ]
  },
  {
   "cell_type": "code",
   "execution_count": 48,
   "metadata": {},
   "outputs": [
    {
     "data": {
      "text/plain": [
       "(472, 64, 50, 50)"
      ]
     },
     "execution_count": 48,
     "metadata": {},
     "output_type": "execute_result"
    }
   ],
   "source": [
    "src_fnc.s00.shape"
   ]
  },
  {
   "cell_type": "markdown",
   "metadata": {},
   "source": [
    "Analyze scattering polarization in Line core!"
   ]
  },
  {
   "cell_type": "code",
   "execution_count": null,
   "metadata": {},
   "outputs": [],
   "source": [
    "plt.plot(I_cube[:,1,0,0])"
   ]
  },
  {
   "cell_type": "markdown",
   "metadata": {},
   "source": [
    "- tau_cube needs to depend on directory\n"
   ]
  },
  {
   "cell_type": "code",
   "execution_count": 67,
   "metadata": {},
   "outputs": [],
   "source": [
    "# Compute planck function for scale in SI units:\n",
    "def B(v,t):\n",
    "    \n",
    "    h=6.62607015e-34\n",
    "    c = 3e8\n",
    "    kb = 1.380649e-23\n",
    "    \n",
    "    out = 2*h*v**3/c**2\n",
    "    e = h*v/(kb*t)\n",
    "    out = out/(np.exp(e) - 1 )\n",
    "    return out  # units are Watts. Sr^-1.m^-2.Hz-1"
   ]
  },
  {
   "cell_type": "code",
   "execution_count": 71,
   "metadata": {},
   "outputs": [
    {
     "data": {
      "text/plain": [
       "2.6412173022356238e-08"
      ]
     },
     "execution_count": 71,
     "metadata": {},
     "output_type": "execute_result"
    }
   ],
   "source": [
    "B((3e8)/(500e-9),6000) # planck function at 6000 K at 500 nm"
   ]
  },
  {
   "cell_type": "markdown",
   "metadata": {},
   "source": [
    "Hence, we expect intensities to be on the order of $10^{-8}$"
   ]
  },
  {
   "cell_type": "code",
   "execution_count": 62,
   "metadata": {},
   "outputs": [
    {
     "data": {
      "text/plain": [
       "[28970198047849.75, 1.5450772292186534e-08]"
      ]
     },
     "execution_count": 62,
     "metadata": {},
     "output_type": "execute_result"
    }
   ],
   "source": [
    "B(400e-9,6000)"
   ]
  },
  {
   "cell_type": "code",
   "execution_count": null,
   "metadata": {},
   "outputs": [],
   "source": [
    "st = Sphr_tensors('small/')"
   ]
  },
  {
   "cell_type": "code",
   "execution_count": null,
   "metadata": {},
   "outputs": [],
   "source": [
    "plt.semilogy(sim_z,st.j20[:,0,0]/st.j00[:,0,0],label = 'J00')\n",
    "plt.xlabel('z (km)')\n",
    "plt.legend()\n",
    "plt.show()"
   ]
  },
  {
   "cell_type": "code",
   "execution_count": null,
   "metadata": {},
   "outputs": [],
   "source": [
    "plt.semilogy(sim_z,st.j00[:,0,0],label = 'J00')\n",
    "plt.semilogy(sim_z,st.j20[:,0,0],label = 'J20')\n",
    "plt.xlabel('z (km)')\n",
    "plt.legend()\n",
    "plt.show()"
   ]
  },
  {
   "cell_type": "code",
   "execution_count": null,
   "metadata": {},
   "outputs": [],
   "source": [
    "plt.plot(src_fnc.s00[:,20,0,0])"
   ]
  },
  {
   "cell_type": "code",
   "execution_count": null,
   "metadata": {},
   "outputs": [],
   "source": [
    "plt.semilogy(sim_z,st.j00[:,0,0],label = 'J00')\n",
    "plt.semilogy(sim_z,src_fnc.s00[1,:,0,0],label = 'S00')\n",
    "plt.xlabel('z (km)')\n",
    "plt.legend()\n",
    "plt.show()"
   ]
  },
  {
   "cell_type": "code",
   "execution_count": null,
   "metadata": {},
   "outputs": [],
   "source": [
    "plt.semilogy(sim_z,(src_fnc.s00[37,:,0,0]), label = 's00 = [opac_l/emis_l]')\n",
    "plt.semilogy(sim_z,(src_fnc.s20[:,0,0]), label = 's20')\n",
    "plt.legend()\n",
    "plt.xlabel('z (km)')\n",
    "plt.show()"
   ]
  },
  {
   "cell_type": "code",
   "execution_count": null,
   "metadata": {},
   "outputs": [],
   "source": [
    "plt.plot(src_fnc.s20[:,0,0])\n",
    "plt.plot(st.j20[:,0,0])"
   ]
  },
  {
   "cell_type": "code",
   "execution_count": null,
   "metadata": {},
   "outputs": [],
   "source": [
    "plt.plot(src_fnc.sq_line(1.0,0.0)[:,0,0])"
   ]
  },
  {
   "cell_type": "code",
   "execution_count": null,
   "metadata": {},
   "outputs": [],
   "source": [
    "plt.plot(src_fnc.r[:,20,0,0])"
   ]
  },
  {
   "cell_type": "code",
   "execution_count": null,
   "metadata": {},
   "outputs": [],
   "source": [
    "plt.semilogy(src_fnc.source_i(1.0,0.0)[37,:,0,0])\n",
    "plt.semilogy(src_fnc.source_q(1.0,0.0)[38,:,0,0])\n",
    "plt.semilogy(src_fnc.source_u(1.0,0.0)[37,:,0,0])"
   ]
  },
  {
   "cell_type": "code",
   "execution_count": null,
   "metadata": {},
   "outputs": [],
   "source": [
    "np.max(I_cube[18,1,:,:])"
   ]
  },
  {
   "cell_type": "code",
   "execution_count": null,
   "metadata": {},
   "outputs": [],
   "source": [
    "np.max(Q_cube[18,1,:,:])"
   ]
  },
  {
   "cell_type": "code",
   "execution_count": null,
   "metadata": {},
   "outputs": [],
   "source": [
    "plt.plot(Q_cube[4:80,1,0,0])"
   ]
  },
  {
   "cell_type": "code",
   "execution_count": null,
   "metadata": {},
   "outputs": [],
   "source": [
    "np.argmax(Q_cube[:,1,0,0])"
   ]
  },
  {
   "cell_type": "code",
   "execution_count": null,
   "metadata": {},
   "outputs": [],
   "source": [
    "plt.imshow(Q_cube[37,1,:,:]/I_cube[37,1,:,:],cmap='bwr')\n",
    "plt.colorbar()"
   ]
  },
  {
   "cell_type": "code",
   "execution_count": null,
   "metadata": {},
   "outputs": [],
   "source": [
    "i_list = np.zeros(64)\n",
    "i_list[-1] = S_col[-1]\n",
    "for d in list(range(62, 0,-1)):\n",
    "    dtau = 10**tau[d+1] - 10**tau[d]\n",
    "    i_list[d] = sc_formal_solver(i_list[d+1],dtau,S_col[d+1],S_col[d])"
   ]
  },
  {
   "cell_type": "code",
   "execution_count": null,
   "metadata": {},
   "outputs": [],
   "source": [
    "plt.plot(i_list)"
   ]
  },
  {
   "cell_type": "code",
   "execution_count": null,
   "metadata": {},
   "outputs": [],
   "source": [
    "list(range(62, 0,-1))"
   ]
  },
  {
   "cell_type": "code",
   "execution_count": null,
   "metadata": {},
   "outputs": [],
   "source": [
    "i_list = np.zeros(64)"
   ]
  },
  {
   "cell_type": "code",
   "execution_count": null,
   "metadata": {
    "scrolled": true
   },
   "outputs": [],
   "source": [
    "plt.plot(np.log10(tau*-1.0))"
   ]
  },
  {
   "cell_type": "code",
   "execution_count": 24,
   "metadata": {},
   "outputs": [
    {
     "data": {
      "text/plain": [
       "(472, 64, 50, 50)"
      ]
     },
     "execution_count": 24,
     "metadata": {},
     "output_type": "execute_result"
    }
   ],
   "source": [
    "total_opac.shape"
   ]
  },
  {
   "cell_type": "code",
   "execution_count": 25,
   "metadata": {},
   "outputs": [],
   "source": [
    "tau = -1.0*np.cumsum(total_opac[0,:,0,0] * np.gradient(sim_z)*(1e3))"
   ]
  },
  {
   "cell_type": "code",
   "execution_count": 26,
   "metadata": {},
   "outputs": [
    {
     "data": {
      "text/plain": [
       "[<matplotlib.lines.Line2D at 0x1ab228ba8>]"
      ]
     },
     "execution_count": 26,
     "metadata": {},
     "output_type": "execute_result"
    },
    {
     "data": {
      "image/png": "[encoded data removed]",
      "text/plain": [
       "<Figure size 432x288 with 1 Axes>"
      ]
     },
     "metadata": {
      "needs_background": "light"
     },
     "output_type": "display_data"
    }
   ],
   "source": [
    "plt.plot(np.log10(tau))"
   ]
  },
  {
   "cell_type": "code",
   "execution_count": 27,
   "metadata": {},
   "outputs": [
    {
     "data": {
      "text/plain": [
       "array([-3.25303302, -2.8922116 , -2.6558188 , -2.46925096, -2.30918132,\n",
       "       -2.16453449, -2.02908365, -1.89996148, -1.77556413, -1.65490003,\n",
       "       -1.53730802, -1.42242195, -1.31019537, -1.20084531, -1.094596  ,\n",
       "       -0.99161735, -0.89214165, -0.79638772, -0.70441623, -0.61601534,\n",
       "       -0.53097685, -0.44890278, -0.36918899, -0.29085743, -0.21307409,\n",
       "       -0.13429328, -0.0518625 ,  0.03721531,  0.13433143,  0.24147493,\n",
       "        0.36284647,  0.5011343 ,  0.67570451,  0.94287276,  1.43400494,\n",
       "        1.90079511,  2.19799768,  2.38592078,  2.51706003,  2.62018039,\n",
       "        2.70791593,  2.78437548,  2.85063717,  2.90752427,  2.95623133,\n",
       "        2.99828565,  3.03555037,  3.07007412,  3.10418343,  3.14037468,\n",
       "        3.18136733,  3.23013354,  3.2894131 ,  3.36035167,  3.44075971,\n",
       "        3.52584466,  3.61089804,  3.69257768,  3.769237  ,  3.84084242,\n",
       "        3.90808221,  3.97173001,  4.03241543,  4.09021196])"
      ]
     },
     "execution_count": 27,
     "metadata": {},
     "output_type": "execute_result"
    }
   ],
   "source": [
    "np.log10(tau)"
   ]
  },
  {
   "cell_type": "code",
   "execution_count": null,
   "metadata": {},
   "outputs": [],
   "source": []
  },
  {
   "cell_type": "code",
   "execution_count": 28,
   "metadata": {},
   "outputs": [],
   "source": [
    "dir_loc = 'small/'"
   ]
  },
  {
   "cell_type": "code",
   "execution_count": 29,
   "metadata": {},
   "outputs": [],
   "source": [
    "source_funcs = Source_function(dir_loc)"
   ]
  },
  {
   "cell_type": "code",
   "execution_count": 350,
   "metadata": {},
   "outputs": [
    {
     "data": {
      "text/plain": [
       "(472, 64, 50, 50)"
      ]
     },
     "execution_count": 350,
     "metadata": {},
     "output_type": "execute_result"
    }
   ],
   "source": [
    "source_funcs.source_q(1.0,0.0).shape"
   ]
  },
  {
   "cell_type": "markdown",
   "metadata": {},
   "source": [
    "# TODO:\n",
    "- Make sure things line up in the bottom of the atmosphere (J = B = I)"
   ]
  },
  {
   "cell_type": "code",
   "execution_count": null,
   "metadata": {},
   "outputs": [],
   "source": []
  }
 ],
 "metadata": {
  "kernelspec": {
   "display_name": "Python 3",
   "language": "python",
   "name": "python3"
  },
  "language_info": {
   "codemirror_mode": {
    "name": "ipython",
    "version": 3
   },
   "file_extension": ".py",
   "mimetype": "text/x-python",
   "name": "python",
   "nbconvert_exporter": "python",
   "pygments_lexer": "ipython3",
   "version": "3.7.3"
  }
 },
 "nbformat": 4,
 "nbformat_minor": 2
}
